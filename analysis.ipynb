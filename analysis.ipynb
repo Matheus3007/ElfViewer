{
 "cells": [
  {
   "cell_type": "code",
   "execution_count": 39,
   "metadata": {},
   "outputs": [
    {
     "name": "stdout",
     "output_type": "stream",
     "text": [
      "Acesso a memoria\n",
      "['ldrhlt', 'ldrhteq', 'strh', 'strbmi', 'ldr', 'sbccc', 'strbcc', 'ldrgt', 'sbceq', 'ldrbcs', 'ldrshteq', 'strgt', 'strbtcs', 'sbcspl', 'ldrbtne', 'ldrtcs', 'strtvs', 'strge', 'ldrbmi', 'sbcseq', 'strt', 'strtlt', 'ldrdeq', 'ldrble', 'strmi', 'strhne', 'streq', 'strlt', 'strheq', 'ldrvc', 'ldrge', 'ldrbcc', 'strbtvs', 'ldrlt', 'str', 'ldrtvc', 'ldrpl', 'strbge', 'strbgt', 'ldrtne', 'ldrblt', 'strbpl', 'strbteq', 'strtcc', 'strhls', 'ldrbvc', 'strhcs', 'strtge', 'ldrsbeq', 'ldrhne', 'ldrsheq', 'strbhi', 'strbtcc', 'strbthi', 'strbeq', 'ldrthi', 'strb', 'ldrbgt', 'strdeq', 'strblt', 'ldrtvs', 'ldrb', 'ldrle', 'ldreq', 'strcs', 'strbvs', 'ldrbtvs', 'sbcsne', 'ldrbvs', 'strtcs', 'strbne', 'ldrbge', 'strbvc', 'ldrsbteq', 'ldrbteq', 'strne', 'ldrteq', 'ldrne', 'ldrtmi', 'strls', 'ldrbne', 'strle', 'strvc', 'strtne', 'ldrbtmi', 'ldrbhi', 'ldrbeq', 'strhlt', 'ldrbpl', 'ldrhi', 'strhteq', 'ldrmi', 'ldrheq', 'ldrbtvc', 'ldrbls', 'ldrtpl', 'strhi', 'ldrcs', 'ldrtlt', 'ldrh', 'strbtvc', 'ldrcc', 'ldrsh', 'strbtne', 'ldrvs', 'ldrls', 'strthi', 'ldrbthi', 'strbls', 'strteq', 'ldrtcc', 'strpl', 'strcc', 'ldrbtcc', 'strbtge', 'strvs']\n",
      "\n",
      "\n",
      "Acesso a memoria com PF\n",
      "['lfmlt', 'lfmne', 'lfmpl', 'stfpls', 'stfles', 'ldfeqe', 'ldfgts', 'stfvse', 'stfnes', 'ldfnes', 'stfmis', 'ldfles', 'ldfcss', 'lfmeq', 'lsleq', 'ldfpls', 'lsl', 'lfmvs', 'stfcss', 'ldfvss', 'stfnee', 'stfgts', 'stfges', 'lslcc', 'lsls', 'lfmmi', 'ldfvse', 'stfeqe', 'ldfges', 'lslne', 'lfmcs', 'lfmls', 'lslls', 'ldflts', 'ldfeqs', 'stflss', 'lfm', 'lfmle', 'stfned', 'stfeqs']\n",
      "\n",
      "\n",
      "Acesso a memoria multiplo\n",
      "['ldmdaeq', 'stmdbpl', 'stmdbne', 'ldmgt', 'ldmdbcs', 'ldmdbeq', 'ldm', 'ldmlt', 'ldmdale', 'ldmdals', 'ldmmi', 'stmda', 'stmdagt', 'stmdavc', 'stmdbcc', 'stmib', 'ldmib', 'ldmcc', 'ldmibhi', 'stmdble', 'stmdale', 'ldmibeq', 'ldmdbvs', 'ldmdavc', 'stmdapl', 'ldmdbmi', 'ldmdahi', 'ldmibge', 'ldmdalt', 'stmeq', 'ldmdble', 'stmdacc', 'stmdbvc', 'ldmdbls', 'stmdblt', 'ldmdage', 'stmdami', 'ldmda', 'stmibeq', 'stmdbeq', 'stmdb', 'stm', 'ldmdami', 'stmdbmi', 'ldmeq', 'ldmpl', 'ldmdacs', 'ldmdbhi', 'ldmdbpl', 'stmibgt', 'stmdals', 'ldmne', 'ldmge', 'ldmdacc', 'ldmdbcc', 'stmdbge', 'stmdavs', 'stmibcs', 'ldmiblt', 'stmdbgt', 'ldmdagt', 'ldmhi', 'stmdbhi', 'ldmibne', 'stmdahi', 'stmiagt', 'ldmdbge', 'ldmdane', 'stmdalt', 'stmdbcs', 'ldmdapl', 'stmiami', 'ldmdbne', 'stmiaeq', 'stmdage', 'stmdbvs', 'stmdacs', 'stmdane', 'ldmdavs', 'ldmdblt', 'ldmdbvc', 'stmiane', 'stmdaeq', 'ldmdbgt', 'stmdbls']\n",
      "\n",
      "\n",
      "Coprocessadores\n",
      "['mcrcc', 'ldccs', 'cfsh32cs', 'mrccc', 'ldc2', 'cfmadd32cs', 'ldcvc', 'smlaldne', 'smlabtlt', 'cfsh32vs', 'mrrcpl', 'mrsne', 'sfmlt', 'smladxcs', 'msr', 'ldc', 'cfmsub32cs', 'smlsdxlt', 'cfmadd32vs', 'smlatbeq', 'mrsmi', 'cfmadd32eq', 'cfstr32pl', 'mrrclt', 'ldclvs', 'cfstrdne', 'smlabteq', 'cfmulscs', 'cdple', 'mrcvc', 'cfmadda32cs', 'mrrcne', 'cfstrseq', 'smlabbeq', 'stcne', 'cfcpyscs', 'cdpne', 'ldcge', 'cfstr32cs', 'smlattmi', 'mrrc', 'smladcc', 'cfmulsls', 'mcrcs', 'mrrcgt', 'cdpeq', 'mrsge', 'cfstrscc', 'cfsh32hi', 'mrrchi', 'cfstrsvs', 'cfstr64ne', 'mrrcle', 'mrc2', 'sfmpl', 'ldccc', 'stcls', 'stcvs', 'cfstr32vs', 'cfstrscs', 'smladxvs', 'stclvs', 'ldclhi', 'cdplt', 'stc2', 'mcrreq', 'smlsdxeq', 'sfmcs', 'smladlt', 'cdp2', 'mrrccs', 'stcleq', 'sfmvs', 'cdpcc', 'cfldrsmi', 'mcrls', 'cfmul32cs', 'smlabbls', 'smladxle', 'sfmls', 'stclge', 'mrslt', 'stclhi', 'smladcs', 'cfldrdvs', 'ldcls', 'stcle', 'mrscs', 'stccs', 'stclgt', 'smlatteq', 'mrrceq', 'cfmulseq', 'mrsvc', 'sfmmi', 'cfstrsge', 'smlabbne', 'mrshi', 'ldcmi', 'cdp', 'cfmul64cs', 'cdpge', 'cfsh32mi', 'stclcs', 'ldceq', 'mrclt', 'ldclvc', 'cfstrdeq', 'mrsvs', 'stcgt', 'mrs', 'mrsgt', 'ldchi', 'cfstrsmi', 'mrseq', 'ldcgt', 'smladxne', 'stceq', 'cfstr32eq', 'smladne', 'cdpcs', 'stclt', 'smladeq', 'cfmac32cs', 'mrceq', 'sfmeq', 'smlabblt', 'cfldr32eq', 'mcrne', 'cfmsub32eq', 'mrcpl', 'ldclne', 'cfldr32cs', 'mrrc2', 'mrrccc', 'sfmne', 'stcmi', 'sfm', 'cfmadd32hi', 'cdpvc', 'cdpgt', 'cfldrscs', 'cfstrdvs', 'cdpls', 'stcpl', 'smlsdxpl', 'cfmadd32vc', 'stclvc', 'stclmi', 'stccc', 'ldcpl', 'cfstr64vs', 'smlabbcc', 'mrrcvs', 'cdppl', 'cfstrspl', 'mrcvs', 'mrsle', 'cfstr32lt', 'ldclcc', 'ldcleq', 'mcrvs', 'stcge', 'cfldrdeq', 'cfsh64vs', 'stc', 'mcreq', 'ldclt', 'cdpmi', 'cfldr64eq', 'mrrcge', 'mcrmi', 'cfstr32ne', 'mrrcmi', 'mrccs', 'cfmadd32gt', 'cfstr32mi', 'stchi', 'cfstr64eq', 'cdphi', 'mrspl', 'mrscc', 'ldcle', 'cfmvsrcs', 'cfldr64vs', 'stcvc', 'mrrcls', 'smlaldeq', 'cdpvs', 'cfmadd32pl', 'ldcne', 'mrsls', 'mrrcvc', 'stclcc']\n",
      "\n",
      "\n",
      "Desvios\n",
      "['blpl', 'b', 'bpl', 'bxne', 'bmi', 'bgt', 'bllt', 'ble', 'bl', 'bcc', 'blls', 'blgt', 'blcs', 'blmi', 'blx', 'bvc', 'blge', 'blhi', 'blt', 'bcs', 'beq', 'bne', 'bx', 'bls', 'bhi', 'blcc', 'bxeq', 'blvc', 'bleq', 'blle', 'bvs', 'bge', 'blne', 'blvs']\n",
      "\n",
      "\n",
      "Modo supervisor\n",
      "['svcgt', 'svceq', 'svc', 'svclt', 'smcvs', 'svcle', 'svccc', 'svcpl', 'svcne', 'svcmi', 'svcvs', 'svcls', 'svchi', 'svccs', 'svcge', 'svcvc']\n",
      "\n",
      "\n",
      "Nop\n",
      "['nop']\n",
      "\n",
      "\n",
      "Operacoes com vetores\n",
      "['vldrpl.16', 'vnmlseq.f32', 'vmlane.f32', 'vstr.16', 'vrshl.u8', 'vmoveq.16', 'vhadd.u8', 'vnmulvs.f64', 'vpmax.f32', 'vhsub.u8', 'vmlagt.f32', 'vhsub.s8', 'vstreq', 'vstreq.16', 'vmulcs.f64', 'vrhadd.u8', 'vmlacs.f16', 'vmax.u8', 'vstrpl.16', 'vldmiagt', 'vmlacc.f64', 'vldrmi.16', 'vaddcs.f32', 'vstrcc', 'vldmials', 'vnmulcs.f16', 'vnmlseq.f64', 'vshl.u8', 'vmax.s8', 'vmulcs.f32', 'vqsub.s8', 'vcge.f32', 'vnmlavc.f32', 'vstrpl', 'vstrne', 'vst4.8', 'vldmiaeq', 'vnmulvs.f16', 'vcgt.u8', 'vstmiaeq', 'vmlaeq.f32', 'vmls.i8', 'vmlahi.f64', 'vmoveq.32']\n",
      "\n",
      "\n",
      "Pilha\n",
      "['popeq', 'push', 'pusheq', 'pop', 'pushhi']\n",
      "\n",
      "\n",
      "Rotacoes\n",
      "['asr', 'asreq', 'asrne', 'rorseq', 'lsrcs', 'lsrsne', 'lsrne', 'lsr', 'lsrs', 'lsrls', 'lsrhi']\n",
      "\n",
      "\n",
      "ULA\n",
      "['addne', 'addshi', 'adc', 'orrcs', 'mvnsne', 'eorge', 'rscspl', 'adceq', 'movle', 'tstcs', 'movw', 'uhsaxvs', 'movthi', 'mvnsmi', 'rsceq', 'subeq', 'rsbscs', 'subscc', 'mvngt', 'uhsaxmi', 'teqpl', 'mul', 'mvnlt', 'subscs', 'rsb', 'tstne', 'eorsvc', 'eorscs', 'movwvs', 'rsbvc', 'rscseq', 'tstgt', 'subne', 'addsne', 'mulseq', 'orrsne', 'movne', 'movs', 'movweq', 'tstvs', 'rsbvs', 'rsbseq', 'cmnlt', 'add', 'rsbspl', 'movteq', 'subseq', 'orrmi', 'bichi', 'movls', 'tstmi', 'bic', 'tsteq', 'addscc', 'andvs', 'andhi', 'orrsmi', 'adcscc', 'rscne', 'andspl', 'addsmi', 'andsge', 'andseq', 'orrseq', 'subsvc', 'andsvc', 'cmpcs', 'andscs', 'eorsge', 'biclt', 'andsgt', 'movtcc', 'andslt', 'teqeq', 'movwvc', 'rsbsne', 'eorsgt', 'movgt', 'addsvc', 'addsge', 'adcpl', 'subcc', 'orrhi', 'subsge', 'andsmi', 'eors', 'bicscc', 'cmpvs', 'eorle', 'movwlt', 'andscc', 'movcs', 'andls', 'biceq', 'subs', 'orrle', 'cmn', 'addsle', 'addspl', 'umlaleq', 'adcsmi', 'addhi', 'movcc', 'rsbsge', 'orrne', 'teq', 'movwcc', 'rsbsvs', 'andvc', 'cmp', 'andcc', 'mareq', 'andmi', 'mov', 'tstle', 'eorgt', 'orr', 'and', 'eorls', 'movseq', 'teqvs', 'cmpvc', 'cmneq', 'tstpl', 'bicne', 'addseq', 'addsvs', 'movwmi', 'andsls', 'lgneqe', 'andsvs', 'tstcc', 'andcs', 'tstls', 'subsls', 'movwpl', 'rsbmi', 'movwls', 'adcsne', 'movhi', 'cmpeq', 'cmnvc', 'movtne', 'eor', 'tst', 'subsgt', 'bicshi', 'movwhi', 'andgt', 'eorscc', 'cmpls', 'ands', 'eorsne', 'eorne', 'eorvs', 'mvneq', 'adcne', 'subslt', 'cmpne', 'cmnvs', 'teqne', 'andne', 'rsbs', 'muleq', 'teqcc', 'qaddcs', 'sub', 'rsbne', 'subcs', 'subsne', 'orrs', 'mvnne', 'cmnne', 'eorseq', 'movwcs', 'cmpcc', 'tstvc', 'movwge', 'teqvc', 'movwne', 'andsne', 'bicseq', 'uqsaxvs', 'rsbeq', 'andeq', 'mvnshi', 'andpl', 'teqcs', 'eorvc', 'subshi', 'orrcc', 'eoreq', 'movwgt', 'orrsle', 'rsbshi', 'addge', 'tstlt', 'mvn', 'andsle', 'subsvs', 'andlt', 'addscs', 'orreq', 'movsge', 'mvncs', 'mraeq', 'cmpge', 'andge', 'movlt', 'addcs', 'moveq', 'andle', 'tstge', 'eorhi', 'mvncc', 'mvnseq', 'rsbsvc', 'subsle', 'orrshi', 'bicsne', 'addls', 'eormi', 'orrspl', 'eorcc', 'subspl', 'cmplt', 'addeq', 'cmnpl', 'rsbsmi', 'adcseq', 'rsbcs', 'tsthi', 'movwle']\n",
      "\n",
      "\n",
      "ULA com PF\n",
      "['rpwnee', 'adfles', 'fmlvce', 'powvsez', 'dvfeqs', 'rsfcss', 'sufcse', 'dvfcsez', 'adfccs', 'rsfeqs', 'dvfeqe', 'rpweqs', 'rsfcssp', 'adfnes', 'adfcss', 'rsfnee', 'dvfcse', 'adfpls', 'adfvce', 'adflss']\n",
      "\n",
      "\n"
     ]
    }
   ],
   "source": [
    "import pandas as pd\n",
    "from unidecode import unidecode\n",
    "\n",
    "data = pd.read_csv('instrucoesFinal.csv', header=None,sep=';')\n",
    "data = pd.DataFrame(data)\n",
    "data.head()\n",
    "data[1] = data[1].apply(unidecode)\n",
    "grouped = data.groupby(data.columns[1])\n",
    "classification_lists = {}\n",
    "\n",
    "\n",
    "for classification, group in grouped:\n",
    "    classification_lists[classification] = group[0].tolist()\n",
    "\n",
    "for i in classification_lists:\n",
    "    print(i)\n",
    "    print(classification_lists[i])\n",
    "    print('\\n')\n"
   ]
  },
  {
   "cell_type": "code",
   "execution_count": 40,
   "metadata": {},
   "outputs": [],
   "source": [
    "import json\n",
    "with open('instructions.json', 'w') as file:\n",
    "    json.dump(classification_lists, file, indent=4)"
   ]
  }
 ],
 "metadata": {
  "kernelspec": {
   "display_name": "Python 3",
   "language": "python",
   "name": "python3"
  },
  "language_info": {
   "codemirror_mode": {
    "name": "ipython",
    "version": 3
   },
   "file_extension": ".py",
   "mimetype": "text/x-python",
   "name": "python",
   "nbconvert_exporter": "python",
   "pygments_lexer": "ipython3",
   "version": "3.11.3"
  },
  "orig_nbformat": 4
 },
 "nbformat": 4,
 "nbformat_minor": 2
}
