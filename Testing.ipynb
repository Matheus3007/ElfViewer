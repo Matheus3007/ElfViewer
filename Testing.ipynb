{
 "cells": [
  {
   "cell_type": "code",
   "execution_count": 22,
   "metadata": {},
   "outputs": [],
   "source": [
    "import json\n",
    "\n",
    "# Read JSON data from the file\n",
    "with open('instructions.json', 'r') as f:\n",
    "    classification_lists = json.load(f)"
   ]
  },
  {
   "cell_type": "code",
   "execution_count": 23,
   "metadata": {},
   "outputs": [
    {
     "name": "stdout",
     "output_type": "stream",
     "text": [
      "Acesso a memoria\n",
      "Acesso a memoria com PF\n",
      "Acesso a memoria multiplo\n",
      "Coprocessadores\n",
      "Desvios\n",
      "Modo supervisor\n",
      "Nop\n",
      "Operacoes com vetores\n",
      "Pilha\n",
      "Rotacoes\n",
      "ULA\n",
      "ULA com PF\n"
     ]
    }
   ],
   "source": [
    "for i in classification_lists:\n",
    "    print(i)"
   ]
  }
 ],
 "metadata": {
  "kernelspec": {
   "display_name": "Python 3",
   "language": "python",
   "name": "python3"
  },
  "language_info": {
   "codemirror_mode": {
    "name": "ipython",
    "version": 3
   },
   "file_extension": ".py",
   "mimetype": "text/x-python",
   "name": "python",
   "nbconvert_exporter": "python",
   "pygments_lexer": "ipython3",
   "version": "3.11.3"
  },
  "orig_nbformat": 4
 },
 "nbformat": 4,
 "nbformat_minor": 2
}
